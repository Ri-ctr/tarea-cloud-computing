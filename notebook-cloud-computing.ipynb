{
 "cells": [
  {
   "cell_type": "code",
   "execution_count": 0,
   "metadata": {
    "application/vnd.databricks.v1+cell": {
     "cellMetadata": {
      "byteLimit": 2048000,
      "rowLimit": 10000
     },
     "inputWidgets": {},
     "nuid": "1fc83f22-113a-49f4-b739-9c8db294ba68",
     "showTitle": false,
     "tableResultSettingsMap": {},
     "title": ""
    }
   },
   "outputs": [
    {
     "output_type": "display_data",
     "data": {
      "application/vnd.databricks.v1+bamboolib_hint": "{\"pd.DataFrames\": [], \"version\": \"0.0.1\"}",
      "text/plain": []
     },
     "metadata": {},
     "output_type": "display_data"
    }
   ],
   "source": [
    "import numpy\n",
    "import pandas"
   ]
  },
  {
   "cell_type": "code",
   "execution_count": 0,
   "metadata": {
    "application/vnd.databricks.v1+cell": {
     "cellMetadata": {
      "byteLimit": 2048000,
      "rowLimit": 10000
     },
     "inputWidgets": {},
     "nuid": "00341631-b6c5-4dac-84fe-6389ed33098b",
     "showTitle": false,
     "tableResultSettingsMap": {},
     "title": ""
    }
   },
   "outputs": [
    {
     "output_type": "stream",
     "name": "stdout",
     "output_type": "stream",
     "text": [
      "wasbs://nyctlc@azureopendatastorage.blob.core.windows.net/yellow\n"
     ]
    },
    {
     "output_type": "display_data",
     "data": {
      "text/html": [
       "<style scoped>\n",
       "  .table-result-container {\n",
       "    max-height: 300px;\n",
       "    overflow: auto;\n",
       "  }\n",
       "  table, th, td {\n",
       "    border: 1px solid black;\n",
       "    border-collapse: collapse;\n",
       "  }\n",
       "  th, td {\n",
       "    padding: 5px;\n",
       "  }\n",
       "  th {\n",
       "    text-align: left;\n",
       "  }\n",
       "</style><div class='table-result-container'><table class='table-result'><thead style='background-color: white'><tr><th>vendorID</th><th>tpepPickupDateTime</th><th>tpepDropoffDateTime</th><th>passengerCount</th><th>tripDistance</th><th>puLocationId</th><th>doLocationId</th><th>startLon</th><th>startLat</th><th>endLon</th><th>endLat</th><th>rateCodeId</th><th>storeAndFwdFlag</th><th>paymentType</th><th>fareAmount</th><th>extra</th><th>mtaTax</th><th>improvementSurcharge</th><th>tipAmount</th><th>tollsAmount</th><th>totalAmount</th><th>puYear</th><th>puMonth</th></tr></thead><tbody><tr><td>CMT</td><td>2012-02-29T23:53:14.000+0000</td><td>2012-03-01T00:00:43.000+0000</td><td>1</td><td>2.1</td><td>null</td><td>null</td><td>-73.980494</td><td>40.730601</td><td>-73.983532</td><td>40.752311</td><td>1</td><td>N</td><td>CSH</td><td>7.3</td><td>0.5</td><td>0.5</td><td>null</td><td>0.0</td><td>0.0</td><td>8.3</td><td>2012</td><td>3</td></tr></tbody></table></div>"
      ]
     },
     "metadata": {
      "application/vnd.databricks.v1+output": {
       "addedWidgets": {},
       "aggData": [],
       "aggError": "",
       "aggOverflow": false,
       "aggSchema": [],
       "aggSeriesLimitReached": false,
       "aggType": "",
       "arguments": {},
       "columnCustomDisplayInfos": {},
       "data": [
        [
         "CMT",
         "2012-02-29T23:53:14.000+0000",
         "2012-03-01T00:00:43.000+0000",
         1,
         2.1,
         null,
         null,
         -73.980494,
         40.730601,
         -73.983532,
         40.752311,
         1,
         "N",
         "CSH",
         7.3,
         0.5,
         0.5,
         null,
         0.0,
         0.0,
         8.3,
         2012,
         3
        ]
       ],
       "datasetInfos": [],
       "dbfsResultPath": null,
       "isJsonSchema": true,
       "metadata": {},
       "overflow": false,
       "plotOptions": {
        "customPlotOptions": {},
        "displayType": "table",
        "pivotAggregation": null,
        "pivotColumns": null,
        "xColumns": null,
        "yColumns": null
       },
       "removedWidgets": [],
       "schema": [
        {
         "metadata": "{}",
         "name": "vendorID",
         "type": "\"string\""
        },
        {
         "metadata": "{}",
         "name": "tpepPickupDateTime",
         "type": "\"timestamp\""
        },
        {
         "metadata": "{}",
         "name": "tpepDropoffDateTime",
         "type": "\"timestamp\""
        },
        {
         "metadata": "{}",
         "name": "passengerCount",
         "type": "\"integer\""
        },
        {
         "metadata": "{}",
         "name": "tripDistance",
         "type": "\"double\""
        },
        {
         "metadata": "{}",
         "name": "puLocationId",
         "type": "\"string\""
        },
        {
         "metadata": "{}",
         "name": "doLocationId",
         "type": "\"string\""
        },
        {
         "metadata": "{}",
         "name": "startLon",
         "type": "\"double\""
        },
        {
         "metadata": "{}",
         "name": "startLat",
         "type": "\"double\""
        },
        {
         "metadata": "{}",
         "name": "endLon",
         "type": "\"double\""
        },
        {
         "metadata": "{}",
         "name": "endLat",
         "type": "\"double\""
        },
        {
         "metadata": "{}",
         "name": "rateCodeId",
         "type": "\"integer\""
        },
        {
         "metadata": "{}",
         "name": "storeAndFwdFlag",
         "type": "\"string\""
        },
        {
         "metadata": "{}",
         "name": "paymentType",
         "type": "\"string\""
        },
        {
         "metadata": "{}",
         "name": "fareAmount",
         "type": "\"double\""
        },
        {
         "metadata": "{}",
         "name": "extra",
         "type": "\"double\""
        },
        {
         "metadata": "{}",
         "name": "mtaTax",
         "type": "\"double\""
        },
        {
         "metadata": "{}",
         "name": "improvementSurcharge",
         "type": "\"string\""
        },
        {
         "metadata": "{}",
         "name": "tipAmount",
         "type": "\"double\""
        },
        {
         "metadata": "{}",
         "name": "tollsAmount",
         "type": "\"double\""
        },
        {
         "metadata": "{}",
         "name": "totalAmount",
         "type": "\"double\""
        },
        {
         "metadata": "{}",
         "name": "puYear",
         "type": "\"integer\""
        },
        {
         "metadata": "{}",
         "name": "puMonth",
         "type": "\"integer\""
        }
       ],
       "type": "table"
      }
     },
     "output_type": "display_data"
    }
   ],
   "source": [
    "# Azure access info\n",
    "blob_account_name = \"azureopendatastorage\"\n",
    "blob_container_name = \"nyctlc\"\n",
    "blob_relative_path = \"yellow\"\n",
    "blob_sas_token = \"r\"\n",
    "\n",
    "# Spark reads from Blob\n",
    "wasbs_path = 'wasbs://%s@%s.blob.core.windows.net/%s' % (blob_container_name, blob_account_name, blob_relative_path)\n",
    "spark.conf.set(\n",
    "  'fs.azure.sas.%s.%s.blob.core.windows.net' % (blob_container_name, blob_account_name),\n",
    "  blob_sas_token)\n",
    "print(wasbs_path)\n",
    "\n",
    "yellowtaxis = spark.read.parquet(wasbs_path)\n",
    "yellowtaxis.createOrReplaceTempView('taxi')\n",
    "display(spark.sql('SELECT * FROM taxi LIMIT 1'))"
   ]
  },
  {
   "cell_type": "code",
   "execution_count": 0,
   "metadata": {
    "application/vnd.databricks.v1+cell": {
     "cellMetadata": {
      "byteLimit": 2048000,
      "rowLimit": 10000
     },
     "inputWidgets": {},
     "nuid": "7da53455-d70e-4172-8123-ad19f0f7885f",
     "showTitle": false,
     "tableResultSettingsMap": {},
     "title": ""
    }
   },
   "outputs": [
    {
     "output_type": "stream",
     "name": "stdout",
     "output_type": "stream",
     "text": [
      "+----------+-------------+--------------------+------------+\n|LocationID|      Borough|                Zone|service_zone|\n+----------+-------------+--------------------+------------+\n|         1|          EWR|      Newark Airport|         EWR|\n|         2|       Queens|         Jamaica Bay|   Boro Zone|\n|         3|        Bronx|Allerton/Pelham G...|   Boro Zone|\n|         4|    Manhattan|       Alphabet City| Yellow Zone|\n|         5|Staten Island|       Arden Heights|   Boro Zone|\n|         6|Staten Island|Arrochar/Fort Wad...|   Boro Zone|\n|         7|       Queens|             Astoria|   Boro Zone|\n|         8|       Queens|        Astoria Park|   Boro Zone|\n|         9|       Queens|          Auburndale|   Boro Zone|\n|        10|       Queens|        Baisley Park|   Boro Zone|\n|        11|     Brooklyn|          Bath Beach|   Boro Zone|\n|        12|    Manhattan|        Battery Park| Yellow Zone|\n|        13|    Manhattan|   Battery Park City| Yellow Zone|\n|        14|     Brooklyn|           Bay Ridge|   Boro Zone|\n|        15|       Queens|Bay Terrace/Fort ...|   Boro Zone|\n|        16|       Queens|             Bayside|   Boro Zone|\n|        17|     Brooklyn|             Bedford|   Boro Zone|\n|        18|        Bronx|        Bedford Park|   Boro Zone|\n|        19|       Queens|           Bellerose|   Boro Zone|\n|        20|        Bronx|             Belmont|   Boro Zone|\n+----------+-------------+--------------------+------------+\nonly showing top 20 rows\n\n"
     ]
    }
   ],
   "source": [
    "# delta to a DataFrame\n",
    "df = spark.read.format('delta').table('default.taxi_zone_lookup_3_csv')\n",
    "df.show()"
   ]
  },
  {
   "cell_type": "code",
   "execution_count": 0,
   "metadata": {
    "application/vnd.databricks.v1+cell": {
     "cellMetadata": {
      "byteLimit": 2048000,
      "rowLimit": 10000
     },
     "inputWidgets": {},
     "nuid": "ca5a890f-c0dc-4ce0-8a8b-a48e706abf31",
     "showTitle": false,
     "tableResultSettingsMap": {},
     "title": ""
    }
   },
   "outputs": [
    {
     "output_type": "stream",
     "name": "stdout",
     "output_type": "stream",
     "text": [
      "root\n |-- vendorID: string (nullable = true)\n |-- tpepPickupDateTime: timestamp (nullable = true)\n |-- tpepDropoffDateTime: timestamp (nullable = true)\n |-- passengerCount: integer (nullable = true)\n |-- tripDistance: double (nullable = true)\n |-- puLocationId: string (nullable = true)\n |-- doLocationId: string (nullable = true)\n |-- startLon: double (nullable = true)\n |-- startLat: double (nullable = true)\n |-- endLon: double (nullable = true)\n |-- endLat: double (nullable = true)\n |-- rateCodeId: integer (nullable = true)\n |-- storeAndFwdFlag: string (nullable = true)\n |-- paymentType: string (nullable = true)\n |-- fareAmount: double (nullable = true)\n |-- extra: double (nullable = true)\n |-- mtaTax: double (nullable = true)\n |-- improvementSurcharge: string (nullable = true)\n |-- tipAmount: double (nullable = true)\n |-- tollsAmount: double (nullable = true)\n |-- totalAmount: double (nullable = true)\n |-- puYear: integer (nullable = true)\n |-- puMonth: integer (nullable = true)\n\n"
     ]
    }
   ],
   "source": [
    "df_taxi = spark.table(\"taxi\")\n",
    "df_taxi.printSchema()"
   ]
  },
  {
   "cell_type": "code",
   "execution_count": 0,
   "metadata": {
    "application/vnd.databricks.v1+cell": {
     "cellMetadata": {
      "byteLimit": 2048000,
      "rowLimit": 10000
     },
     "inputWidgets": {},
     "nuid": "804c1d8e-af70-4626-958b-dc4d90798f36",
     "showTitle": false,
     "tableResultSettingsMap": {},
     "title": ""
    }
   },
   "outputs": [],
   "source": [
    "from pyspark.sql import functions as F\n",
    "\n",
    "# 2 miles or more\n",
    "filtered_taxi_df = df_taxi.filter(df_taxi.tripDistance >= 2)\n",
    "\n",
    "# top 20 drop-off locations \n",
    "manhattan_drops = (\n",
    "    filtered_taxi_df.join(\n",
    "        spark.read.format('delta').table('default.taxi_zone_lookup_3_csv'),\n",
    "        filtered_taxi_df.doLocationId == df.LocationID\n",
    "    )\n",
    "    .filter(df.Borough == 'Manhattan')  \n",
    "    .groupBy(\"doLocationId\", \"Zone\")\n",
    "    .agg(F.sum(\"passengerCount\").alias(\"total_passenger_count\"))\n",
    "    .orderBy(F.desc(\"total_passenger_count\"))\n",
    "    .limit(20)  \n",
    ")\n",
    "\n",
    "popular_dropoffs = manhattan_drops.select(\"doLocationId\").rdd.flatMap(lambda x: x).collect()\n",
    "\n",
    "\n",
    "#   avg total amount per trip, count of trips per location, count of trips that start at that location and end at one of the popular drop-off locs\n",
    "\n",
    "pickup_analysis = (\n",
    "    filtered_taxi_df.join(\n",
    "        spark.read.format('delta').table('default.taxi_zone_lookup_3_csv'),\n",
    "        filtered_taxi_df.puLocationId == df.LocationID\n",
    "    )\n",
    "    .withColumn(\n",
    "        \"is_popular_dropoff\", \n",
    "        F.when(filtered_taxi_df.doLocationId.isin(popular_dropoffs), 1).otherwise(0)\n",
    "    )\n",
    "    .groupBy(\"puLocationId\", \"Borough\", \"Zone\")\n",
    "    .agg(\n",
    "        F.avg(\"totalAmount\").alias(\"avg_total_amount\"),  # Average total amount per trip\n",
    "        F.sum(\"passengerCount\").alias(\"total_passenger_count\"),\n",
    "        F.sum(\"is_popular_dropoff\").alias(\"popular_dropoff_count\")\n",
    "    )\n",
    ")\n",
    "\n",
    "# profit for each pickup location\n",
    "pickup_analysis = pickup_analysis.withColumn(\n",
    "    \"dropoff_proportion\", \n",
    "    F.col(\"popular_dropoff_count\") / F.col(\"total_passenger_count\")\n",
    ")\n",
    "\n",
    "# weighted profit\n",
    "pickup_analysis = pickup_analysis.withColumn(\n",
    "    \"weighted_profit\", \n",
    "    F.col(\"dropoff_proportion\") * F.col(\"avg_total_amount\")\n",
    ")\n",
    "\n",
    "pickup_analysis = pickup_analysis.orderBy(F.desc(\"weighted_profit\"))\n",
    "\n",
    "# final top 20 locations list\n",
    "pickup_analysis.select(\"Borough\", \"Zone\", \"avg_total_amount\", \"total_passenger_count\", \"popular_dropoff_count\", \"dropoff_proportion\", \"weighted_profit\").show(20)\n"
   ]
  }
 ],
 "metadata": {
  "application/vnd.databricks.v1+notebook": {
   "dashboards": [],
   "environmentMetadata": null,
   "language": "python",
   "notebookMetadata": {
    "pythonIndentUnit": 4
   },
   "notebookName": "notebook-cloud-computing",
   "widgets": {}
  }
 },
 "nbformat": 4,
 "nbformat_minor": 0
}
